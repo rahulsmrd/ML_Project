{
 "cells": [
  {
   "cell_type": "markdown",
   "metadata": {},
   "source": [
    "Symptom - Based Disease Prediction System Using Machine Learning"
   ]
  },
  {
   "cell_type": "code",
   "execution_count": null,
   "metadata": {},
   "outputs": [],
   "source": [
    "#<---------------- Importing modules ----------------->\n",
    "import numpy as np\n",
    "import pandas as pd\n",
    "from sklearn import tree\n",
    "from sklearn.tree import DecisionTreeClassifier\n",
    "from sklearn.neighbors import  KNeighborsClassifier\n",
    "from sklearn.model_selection import cross_val_score\n",
    "from sklearn.metrics import accuracy_score,confusion_matrix"
   ]
  },
  {
   "cell_type": "code",
   "execution_count": null,
   "metadata": {},
   "outputs": [],
   "source": [
    "#<------------ Loading The Training Data ------------------>\n",
    "\n",
    "df=pd.read_csv(\"home/training.csv\")\n",
    "DF= pd.read_csv('home/training.csv', index_col='prognosis')\n",
    "DF"
   ]
  },
  {
   "cell_type": "markdown",
   "metadata": {},
   "source": [
    "df.replace({'prognosis':{'Fungal infection':0,'Allergy':1,'GERD':2,'Chronic cholestasis':3,'Drug Reaction':4,\n",
    "    'Peptic ulcer diseae':5,'AIDS':6,'Diabetes ':7,'Gastroenteritis':8,'Bronchial Asthma':9,'Hypertension ':10,\n",
    "    'Migraine':11,'Cervical spondylosis':12,\n",
    "    'Paralysis (brain hemorrhage)':13,'Jaundice':14,'Malaria':15,'Chicken pox':16,'Dengue':17,'Typhoid':18,'hepatitis A':19,\n",
    "    'Hepatitis B':20,'Hepatitis C':21,'Hepatitis D':22,'Hepatitis E':23,'Alcoholic hepatitis':24,'Tuberculosis':25,\n",
    "    'Common Cold':26,'Pneumonia':27,'Dimorphic hemmorhoids(piles)':28,'Heart attack':29,'Varicose veins':30,'Hypothyroidism':31,\n",
    "    'Hyperthyroidism':32,'Hypoglycemia':33,'Osteoarthristis':34,'Arthritis':35,\n",
    "    '(vertigo) Paroymsal  Positional Vertigo':36,'Acne':37,'Urinary tract infection':38,'Psoriasis':39,\n",
    "    'Impetigo':40}},inplace=True)"
   ]
  },
  {
   "cell_type": "code",
   "execution_count": null,
   "metadata": {},
   "outputs": [],
   "source": [
    "#<------------------ Training Data Preprocessing -------------------->\n",
    "\n",
    "disease_list=list(df['prognosis'].unique())\n",
    "symptoms_list=list(df)\n",
    "symptoms_list.pop()\n",
    "count=0\n",
    "for i in df.prognosis.unique():\n",
    "    df.prognosis.replace({i:count},inplace=True)\n",
    "    count+=1\n",
    "df.prognosis.unique()"
   ]
  },
  {
   "cell_type": "code",
   "execution_count": null,
   "metadata": {},
   "outputs": [],
   "source": [
    "#<---------------------Taking Features ----------------------->\n",
    "X= df[symptoms_list]\n",
    "y = df[[\"prognosis\"]]"
   ]
  },
  {
   "cell_type": "code",
   "execution_count": null,
   "metadata": {},
   "outputs": [],
   "source": [
    "#<------------------- Applying Classifier -------------------->\n",
    "\n",
    "clf = DecisionTreeClassifier()\n",
    "clf = clf.fit(X,y)\n",
    "tree.plot_tree(clf)"
   ]
  },
  {
   "cell_type": "code",
   "execution_count": null,
   "metadata": {},
   "outputs": [],
   "source": [
    "#<------------------- Cross validation ------------------------>\n",
    "\n",
    "scores1=np.mean(cross_val_score(DecisionTreeClassifier(),X,np.ravel(y),scoring='r2',cv=10))\n",
    "print('Cross Validation Score of Decision Tree : ',scores1)\n",
    "scores2=np.mean(cross_val_score(KNeighborsClassifier(n_neighbors=5,p=2),X,np.ravel(y),scoring='r2',cv=10))\n",
    "print('Cross Validation Score of K Nearest Neighbours : ',scores2)"
   ]
  },
  {
   "cell_type": "code",
   "execution_count": null,
   "metadata": {},
   "outputs": [],
   "source": [
    "#<------------------ Testing Data Preprocessing -------------------->\n",
    "\n",
    "df2=pd.read_csv(\"home/testing.csv\")\n",
    "DF2= pd.read_csv('home/testing.csv', index_col='prognosis')\n",
    "\n",
    "disease_list=list(df2['prognosis'].unique())\n",
    "symptoms_list=list(df2)\n",
    "symptoms_list.pop()\n",
    "count=0\n",
    "for i in df2.prognosis.unique():\n",
    "    df2.prognosis.replace({i:count},inplace=True)\n",
    "    count+=1\n",
    "X_test= df2[symptoms_list]\n",
    "y_test = df2[[\"prognosis\"]]"
   ]
  },
  {
   "cell_type": "code",
   "execution_count": null,
   "metadata": {},
   "outputs": [],
   "source": [
    "#<------------------ Calculating Accuracy Score and Confusion Matrix -------------------------------->\n",
    "\n",
    "y_pred=clf.predict(X_test)\n",
    "print('For Decission Tree',accuracy_score(y_test,y_pred),'\\n',confusion_matrix(y_test,y_pred),'\\n\\n')\n",
    "\n",
    "\n",
    "clf2=KNeighborsClassifier(n_neighbors=10,p=2)\n",
    "clf2.fit(X,np.ravel(y))\n",
    "y_pred2=clf2.predict(X_test)\n",
    "print('For K Nearest Neighbours',accuracy_score(y_test,y_pred2),'\\n',confusion_matrix(y_test,y_pred),'\\n\\n')"
   ]
  }
 ],
 "metadata": {
  "kernelspec": {
   "display_name": "mlproj",
   "language": "python",
   "name": "python3"
  },
  "language_info": {
   "codemirror_mode": {
    "name": "ipython",
    "version": 3
   },
   "file_extension": ".py",
   "mimetype": "text/x-python",
   "name": "python",
   "nbconvert_exporter": "python",
   "pygments_lexer": "ipython3",
   "version": "3.10.1"
  }
 },
 "nbformat": 4,
 "nbformat_minor": 2
}
